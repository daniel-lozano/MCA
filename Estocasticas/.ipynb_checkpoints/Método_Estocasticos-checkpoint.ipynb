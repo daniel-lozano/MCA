{
 "metadata": {
  "name": "",
  "signature": "sha256:c65fff24337450e4451419f86f88cde3cb3246b820cc24d132fde08c5cccf3b2"
 },
 "nbformat": 3,
 "nbformat_minor": 0,
 "worksheets": [
  {
   "cells": [
    {
     "cell_type": "code",
     "collapsed": false,
     "input": [
      "%pylab inline"
     ],
     "language": "python",
     "metadata": {},
     "outputs": [
      {
       "output_type": "stream",
       "stream": "stdout",
       "text": [
        "Populating the interactive namespace from numpy and matplotlib\n"
       ]
      }
     ],
     "prompt_number": 1
    },
    {
     "cell_type": "code",
     "collapsed": false,
     "input": [
      "T = 1.0\n",
      "N = 1000\n",
      "dt = T/N\n",
      "#inicia arrays de floats \n",
      "dW = zeros(N)\n",
      "W = zeros(N)\n",
      "\n",
      "dW = sqrt(dt) * random.normal(size=4)\n",
      "W = dW.cumsum()\n",
      "print W,dW\n",
      "#plot(W)"
     ],
     "language": "python",
     "metadata": {},
     "outputs": [
      {
       "output_type": "stream",
       "stream": "stdout",
       "text": [
        "[ 0.00643876 -0.01747041 -0.03641681 -0.00504278] [ 0.00643876 -0.02390917 -0.0189464   0.03137403]\n"
       ]
      }
     ],
     "prompt_number": 20
    },
    {
     "cell_type": "code",
     "collapsed": false,
     "input": [],
     "language": "python",
     "metadata": {},
     "outputs": []
    }
   ],
   "metadata": {}
  }
 ]
}