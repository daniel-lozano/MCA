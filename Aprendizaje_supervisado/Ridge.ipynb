{
 "cells": [
  {
   "cell_type": "code",
   "execution_count": null,
   "metadata": {
    "collapsed": false
   },
   "outputs": [
    {
     "name": "stdout",
     "output_type": "stream",
     "text": [
      "Populating the interactive namespace from numpy and matplotlib\n"
     ]
    },
    {
     "name": "stderr",
     "output_type": "stream",
     "text": [
      "/Users/daniellozano/anaconda/lib/python2.7/site-packages/matplotlib/font_manager.py:273: UserWarning: Matplotlib is building the font cache using fc-list. This may take a moment.\n",
      "  warnings.warn('Matplotlib is building the font cache using fc-list. This may take a moment.')\n"
     ]
    }
   ],
   "source": [
    "%pylab inline\n",
    "import pandas as pd\n",
    "import seaborn as sns\n",
    "from sklearn.linear_model import LinearRegression #para hacer regresiones lineales\n",
    "from sklearn.cross_validation import train_test_split #para separar datos entre datos de test y entrenamiento\n",
    "from sklearn import metrics # para medir (metricas) errores, etc.\n",
    "from sklearn import linear_model"
   ]
  },
  {
   "cell_type": "code",
   "execution_count": null,
   "metadata": {
    "collapsed": false
   },
   "outputs": [],
   "source": [
    "data = pd.read_csv('http://www-bcf.usc.edu/~gareth/ISL/Credit.csv', index_col=0)\n",
    "data.head()#escribe las primeras 10 lineas de data\n"
   ]
  },
  {
   "cell_type": "code",
   "execution_count": null,
   "metadata": {
    "collapsed": false
   },
   "outputs": [],
   "source": [
    "sns.pairplot(data, x_vars=['Income','Limit','Rating'], y_vars='Balance', size=10, aspect=0.7, kind='reg')"
   ]
  },
  {
   "cell_type": "code",
   "execution_count": null,
   "metadata": {
    "collapsed": false
   },
   "outputs": [],
   "source": [
    "sns.pairplot(data, x_vars=['Cards','Age','Education'], y_vars='Balance', size=10, aspect=0.7, kind='reg')"
   ]
  },
  {
   "cell_type": "code",
   "execution_count": null,
   "metadata": {
    "collapsed": false
   },
   "outputs": [],
   "source": [
    "X = data[['Income','Limit','Rating','Cards','Age','Education']]\n",
    "Y=data[['Balance']]\n",
    "\n",
    "#Dividiendo los datos en entrenamiento y test.\n",
    "X_train,X_test,Y_train,Y_test=train_test_split(X, Y, random_state=1)\n",
    "\n",
    "print X_train.shape\n",
    "print Y_train.shape\n",
    "print X_test.shape\n",
    "print Y_test.shape\n"
   ]
  },
  {
   "cell_type": "markdown",
   "metadata": {},
   "source": [
    "## Haciendo la regresion linean con el metodo RSS"
   ]
  },
  {
   "cell_type": "code",
   "execution_count": null,
   "metadata": {
    "collapsed": false
   },
   "outputs": [],
   "source": [
    "linreg = LinearRegression()\n",
    "# fit the model to the training data (learn the coefficients)\n",
    "linreg.fit(X_train, Y_train)\n",
    "\n",
    "#aqui estan los coeficientes del interceptos y los factores lineales de cada variable.\n",
    "print \"Coeficiente de interseccion \",linreg.intercept_\n",
    "\n",
    "print \"\\nCoeficientes de variables \",linreg.coef_\n",
    "\n",
    "Y_pred_rss=linreg.predict(X_test)#se hace una prediccion con la medicion usando minimos cuadrados \n",
    "\n",
    "print \"\\nError \",sqrt(metrics.mean_squared_error(Y_test, Y_pred_rss))# error con raiz \n"
   ]
  },
  {
   "cell_type": "markdown",
   "metadata": {},
   "source": [
    "# Usando Ridge para variar el valor $ \\alpha $"
   ]
  },
  {
   "cell_type": "code",
   "execution_count": null,
   "metadata": {
    "collapsed": false
   },
   "outputs": [],
   "source": [
    "clf = linear_model.LinearRegression()\n",
    "\n",
    "#fit usando Ridge\n",
    "lf = linear_model.Ridge (alpha = .1)\n",
    "clf.fit (X_train,Y_train) \n",
    "\n",
    "print \"Intercepto \", clf.intercept_\n",
    "print \"\\nCoeficientes \", clf.coef_\n",
    "\n",
    "Y_pred_ridge=clf.predict(X_test)\n",
    "\n",
    "print \"\\nError \",sqrt(metrics.mean_squared_error(Y_test, Y_pred_ridge))# error con raiz \n",
    "\n"
   ]
  },
  {
   "cell_type": "code",
   "execution_count": null,
   "metadata": {
    "collapsed": false,
    "scrolled": true
   },
   "outputs": [],
   "source": [
    "ALPHA=linspace(0.01,10000,10000)\n",
    "Error_Ridge=zeros(len(ALPHA))\n",
    "COEF=zeros([len(ALPHA),6])\n",
    "\n",
    "for i in range(len(ALPHA)):\n",
    "    lf = linear_model.Ridge (alpha = ALPHA[i])\n",
    "    clf.fit (X_train,Y_train) \n",
    "    COEF[i,0]=clf.coef_[0,0]\n",
    "    COEF[i,1]=clf.coef_[0,1]\n",
    "    COEF[i,2]=clf.coef_[0,2]\n",
    "    COEF[i,3]=clf.coef_[0,3]\n",
    "    COEF[i,4]=clf.coef_[0,4]\n",
    "    COEF[i,5]=clf.coef_[0,5]\n",
    "    \n",
    "    Y_pred_ridge=clf.predict(X_test)\n",
    "    Error_Ridge[i]=sqrt(metrics.mean_squared_error(Y_test, Y_pred_ridge))# error con raiz \n",
    "    \n",
    "\n"
   ]
  },
  {
   "cell_type": "code",
   "execution_count": null,
   "metadata": {
    "collapsed": false
   },
   "outputs": [],
   "source": [
    "plot(ALPHA,Error_Ridge)\n",
    "print min(Error_Ridge),max(Error_Ridge)"
   ]
  },
  {
   "cell_type": "code",
   "execution_count": null,
   "metadata": {
    "collapsed": false
   },
   "outputs": [],
   "source": [
    "A=linspace(1, 1000,5000)\n",
    "clf = linear_model.RidgeCV(alphas=A)\n",
    "clf.fit(X_train,Y_train)       \n",
    "print \"alpha\",clf.alpha_ \n",
    "print \"\\nIntercepto\", clf.intercept_\n",
    "print \"\\nCoeficientes\", clf.coef_\n",
    "\n",
    "Y_pred_ridge=clf.predict(X_test)\n",
    "print \"\\nError\",sqrt(metrics.mean_squared_error(Y_test, Y_pred_ridge))# error con raiz \n",
    "\n"
   ]
  },
  {
   "cell_type": "code",
   "execution_count": null,
   "metadata": {
    "collapsed": true
   },
   "outputs": [],
   "source": []
  }
 ],
 "metadata": {
  "kernelspec": {
   "display_name": "Python 2",
   "language": "python",
   "name": "python2"
  },
  "language_info": {
   "codemirror_mode": {
    "name": "ipython",
    "version": 2
   },
   "file_extension": ".py",
   "mimetype": "text/x-python",
   "name": "python",
   "nbconvert_exporter": "python",
   "pygments_lexer": "ipython2",
   "version": "2.7.11"
  }
 },
 "nbformat": 4,
 "nbformat_minor": 0
}
